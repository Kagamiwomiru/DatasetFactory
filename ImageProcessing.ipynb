{
 "cells": [
  {
   "cell_type": "code",
   "execution_count": 1,
   "metadata": {},
   "outputs": [],
   "source": [
    "#Copyright (c) 2018  Shotaro Ishigami"
    "import cv2\n",
    "import numpy as np\n",
    "from IPython.display import display, Image as iP\n",
    "from PIL import Image, ImageDraw, ImageFilter\n",
    "from UnionKit import *\n",
    "from ipywidgets import interact\n",
    "import glob\n",
    "import random\n",
    "#画像表示用\n",
    "import matplotlib.pyplot as plt\n",
    "def display_cv_image(image, format='.png'):\n",
    "    decoded_bytes = cv2.imencode(format, image)[1].tobytes()\n",
    "    display(iP(data=decoded_bytes))\n",
    "def diffImageView(original,change):\n",
    "    plt.subplot(221)\n",
    "    plt.title(\"1\")\n",
    "    plt.imshow(original)\n",
    "    plt.subplot(222)\n",
    "    plt.title(\"2\")\n",
    "    plt.imshow(change)"
   ]
  },
  {
   "cell_type": "code",
   "execution_count": 2,
   "metadata": {},
   "outputs": [],
   "source": [
    "#よく使うパス\n",
    "TMP=\"./tmp/tmp.png\"\n",
    "BAK=\"./Background/background1.jpg\"\n",
    "TAR=\"./Target/target1.jpg\""
   ]
  },
  {
   "cell_type": "code",
   "execution_count": 3,
   "metadata": {
    "scrolled": true
   },
   "outputs": [],
   "source": [
    "# PILで明度調整\n",
    "def test_PIL_point(tar=\"./Target/target1.jpg\",bak_name=\"./Background/background1.jpg\",point=1.0):\n",
    "    \n",
    "    img=Image.open(tar)\n",
    "   # diffImageView(org,img)\n",
    "    img_op=np.asanyarray(img)\n",
    "    img_op=img_op[:,:,::-1].copy()\n",
    "\n",
    "    Extraction_color(R=244,G=248,B=203,tar=img_op)\n",
    "\n",
    "    img=Image.open(\"tmp/tmp.png\")\n",
    "\n",
    "    img_dw=img.point(lambda x:x*point)\n",
    "    img_dw.save(\"./tmp/tmp.png\")\n",
    "\n",
    "    bak=Image.open(bak_name)\n",
    "\n",
    "    return PasteTarget(background=bak)"
   ]
  },
  {
   "cell_type": "code",
   "execution_count": 4,
   "metadata": {},
   "outputs": [],
   "source": [
    "#OpenCVで明度調整\n",
    "def test_OpenCV_gamma(tar=TAR,bak_name=BAK,gamma=1.0):\n",
    "    img=cv2.imread(tar)\n",
    "    Extraction_color(R=244,G=248,B=203,tar=img)\n",
    "    # gamma=0.5\n",
    "    gamma_cvt=np.zeros((256,1),dtype='uint8')\n",
    "    for i in range(256):\n",
    "        gamma_cvt[i][0]=255*(float(i)/255)**(1.0/gamma)\n",
    "\n",
    "    img=cv2.imread(TMP,-1)\n",
    "    img_gamma=cv2.LUT(img,gamma_cvt)\n",
    "    cv2.imwrite(TMP,img_gamma)\n",
    "    bak=Image.open(bak_name)\n",
    "    return PasteTarget(background=bak)"
   ]
  },
  {
   "cell_type": "code",
   "execution_count": 5,
   "metadata": {},
   "outputs": [],
   "source": [
    "#ターゲット切り取り\n",
    "def test_PreExtraction(img):\n",
    "\n",
    "    th1=Binarize(240,img)\n",
    "    # 輪郭を抽出\n",
    "      #   contours : [領域][Point No][0][x=0, y=1]\n",
    "      #   cv2.CHAIN_APPROX_NONE: 中間点も保持する\n",
    "      #   cv2.CHAIN_APPROX_SIMPLE: 中間点は保持しない\n",
    "    _,contours, hierarchy = cv2.findContours(th1, cv2.RETR_LIST, cv2.CHAIN_APPROX_NONE)\n",
    "    # 矩形検出された数（デフォルトで0を指定）\n",
    "#     detect_count = 0\n",
    "    # 各輪郭に対する処理\n",
    "    maxContour=0\n",
    "    h,w,_=img.shape[:3]\n",
    "    img_area=h*w\n",
    "    for i in range(0, len(contours)):\n",
    "\n",
    "        # 輪郭の領域を計算\n",
    "        area = cv2.contourArea(contours[i])\n",
    "\n",
    "        # ノイズ（小さすぎる領域）と全体の輪郭（大きすぎる領域）を除外\n",
    "        if area < 1e3 or area>=img_area-2000 :\n",
    "              continue\n",
    "\n",
    "        # 外接矩形\n",
    "        if len(contours[i]) > 0:\n",
    "            if(area>maxContour):\n",
    "                rect = contours[i]\n",
    "                x, y, w, h = cv2.boundingRect(rect)\n",
    "                cv2.rectangle(img, (x, y), (x + w, y + h), (255, 255, 255), 0)\n",
    "\n",
    "                # 外接矩形毎に画像を保存\n",
    "                img_pe=img[y:y + h, x:x + w]\n",
    "                maxContour=area\n",
    "                detect_count = detect_count + 1\n",
    "                \n",
    "#     print str(detect_count)     +\":\"+str(maxContour)+\":\"+str(img_area)\n",
    "    return img_pe"
   ]
  },
  {
   "cell_type": "markdown",
   "metadata": {},
   "source": [
    "# 色抽出"
   ]
  },
  {
   "cell_type": "code",
   "execution_count": 174,
   "metadata": {},
   "outputs": [],
   "source": [
    "def LensFilter(img,color,scale):\n",
    "    b,g,r=img[:,:,0],img[:,:,1],img[:,:,2]\n",
    "    if(color==\"red\"):\n",
    "        img[:,:,0]=0\n",
    "        img[:,:,1]=0\n",
    "        img[:,:,2]=r//scale\n",
    "    elif(color==\"green\"):\n",
    "        img[:,:,0]=0\n",
    "        img[:,:,1]=g//scale\n",
    "        img[:,:,2]=0\n",
    "    elif(color==\"blue\"):\n",
    "        img[:,:,0]=b//scale\n",
    "        img[:,:,1]=0\n",
    "        img[:,:,2]=0\n",
    "    \n",
    "    return img"
   ]
  },
  {
   "cell_type": "code",
   "execution_count": 1,
   "metadata": {},
   "outputs": [
    {
     "ename": "NameError",
     "evalue": "name 'cv2' is not defined",
     "output_type": "error",
     "traceback": [
      "\u001b[0;31m---------------------------------------------------------------------------\u001b[0m",
      "\u001b[0;31mNameError\u001b[0m                                 Traceback (most recent call last)",
      "\u001b[0;32m<ipython-input-1-4cc72d9be994>\u001b[0m in \u001b[0;36m<module>\u001b[0;34m()\u001b[0m\n\u001b[0;32m----> 1\u001b[0;31m \u001b[0mimg\u001b[0m\u001b[0;34m=\u001b[0m\u001b[0mcv2\u001b[0m\u001b[0;34m.\u001b[0m\u001b[0mimread\u001b[0m\u001b[0;34m(\u001b[0m\u001b[0;34m\"./Output/out_10.jpg\"\u001b[0m\u001b[0;34m)\u001b[0m\u001b[0;34m\u001b[0m\u001b[0m\n\u001b[0m\u001b[1;32m      2\u001b[0m \u001b[0mLensFilter\u001b[0m\u001b[0;34m(\u001b[0m\u001b[0mimg\u001b[0m\u001b[0;34m,\u001b[0m\u001b[0;34m\"blue\"\u001b[0m\u001b[0;34m,\u001b[0m\u001b[0;36m2\u001b[0m\u001b[0;34m)\u001b[0m\u001b[0;34m\u001b[0m\u001b[0m\n",
      "\u001b[0;31mNameError\u001b[0m: name 'cv2' is not defined"
     ]
    }
   ],
   "source": [
    "img=cv2.imread(\"./Output/out_10.jpg\")\n",
    "LensFilter(img,\"blue\",2)"
   ]
  },
  {
   "cell_type": "markdown",
   "metadata": {},
   "source": [
    "# 彩度を下げる"
   ]
  },
  {
   "cell_type": "code",
   "execution_count": 211,
   "metadata": {},
   "outputs": [],
   "source": [
    "def ModChroma(img,chroma):\n",
    "    a=cv2.cvtColor(img,cv2.COLOR_BGR2HSV)\n",
    "    hsv=cv2.split(a)\n",
    "    hsv[1]=hsv[1]//chroma\n",
    "    img=cv2.merge((hsv[0],hsv[1],hsv[2]))\n",
    "    img=cv2.cvtColor(img,cv2.COLOR_HSV2BGR)\n",
    "    return img\n",
    "    "
   ]
  },
  {
   "cell_type": "code",
   "execution_count": 2,
   "metadata": {},
   "outputs": [
    {
     "ename": "NameError",
     "evalue": "name 'cv2' is not defined",
     "output_type": "error",
     "traceback": [
      "\u001b[0;31m---------------------------------------------------------------------------\u001b[0m",
      "\u001b[0;31mNameError\u001b[0m                                 Traceback (most recent call last)",
      "\u001b[0;32m<ipython-input-2-9620941d449d>\u001b[0m in \u001b[0;36m<module>\u001b[0;34m()\u001b[0m\n\u001b[0;32m----> 1\u001b[0;31m \u001b[0mimg\u001b[0m\u001b[0;34m=\u001b[0m\u001b[0mcv2\u001b[0m\u001b[0;34m.\u001b[0m\u001b[0mimread\u001b[0m\u001b[0;34m(\u001b[0m\u001b[0;34m\"./Output/out_10.jpg\"\u001b[0m\u001b[0;34m)\u001b[0m\u001b[0;34m\u001b[0m\u001b[0m\n\u001b[0m\u001b[1;32m      2\u001b[0m \u001b[0mdisplay_cv_image\u001b[0m\u001b[0;34m(\u001b[0m\u001b[0mModChroma\u001b[0m\u001b[0;34m(\u001b[0m\u001b[0mimg\u001b[0m\u001b[0;34m=\u001b[0m\u001b[0mimg\u001b[0m\u001b[0;34m,\u001b[0m\u001b[0mchroma\u001b[0m\u001b[0;34m=\u001b[0m\u001b[0;36m5\u001b[0m\u001b[0;34m)\u001b[0m\u001b[0;34m)\u001b[0m\u001b[0;34m\u001b[0m\u001b[0m\n",
      "\u001b[0;31mNameError\u001b[0m: name 'cv2' is not defined"
     ]
    }
   ],
   "source": [
    "img=cv2.imread(\"./Output/out_10.jpg\")\n",
    "display_cv_image(ModChroma(img=img,chroma=5))"
   ]
  },
  {
   "cell_type": "markdown",
   "metadata": {},
   "source": [
    "# 夜っぽくする"
   ]
  },
  {
   "cell_type": "code",
   "execution_count": 229,
   "metadata": {
    "scrolled": false
   },
   "outputs": [],
   "source": [
    "def darkmode(tar):\n",
    "    img=cv2.imread(tar)\n",
    "    h,w,_=img.shape\n",
    "    # display_cv_image(img)\n",
    "    # pil=Image.open(\"./Output/out_10.jpg\")\n",
    "    #ここに処理\n",
    "    blur=w/150\n",
    "    if(blur%2==0):\n",
    "        blur+=1\n",
    "\n",
    "\n",
    "\n",
    "    img=TargetSmoothingBlur(img,blur)\n",
    "    # display_cv_image(img)\n",
    "    img=LensFilter(img,\"blue\",1)\n",
    "    img = cv2.cvtColor(img, cv2.COLOR_BGR2RGB)\n",
    "    pil=Image.fromarray(img)\n",
    "    img=PIL_point(0.6,pil)\n",
    "    #PILからOpenCVへ変換\n",
    "    img = cv2.cvtColor(np.array(img),cv2.COLOR_BGR2RGB)\n",
    "    img=ModChroma(img,5)\n",
    "\n",
    "\n",
    "\n",
    "    img=OpenCV_gamma(0.6,img)\n",
    "    #ここまで\n",
    "    return display_cv_image(img)\n",
    "#     img"
   ]
  },
  {
   "cell_type": "code",
   "execution_count": 230,
   "metadata": {},
   "outputs": [
    {
     "data": {
      "application/vnd.jupyter.widget-view+json": {
       "model_id": "8e24a59c61684a32a72976ef32486df8",
       "version_major": 2,
       "version_minor": 0
      },
      "text/plain": [
       "aW50ZXJhY3RpdmUoY2hpbGRyZW49KERyb3Bkb3duKGRlc2NyaXB0aW9uPXUndGFyJywgb3B0aW9ucz0oJy4vT3V0cHV0L291dF8yMjAuanBnJywgJy4vT3V0cHV0L291dF8zMzguanBnJywgJy7igKY=\n"
      ]
     },
     "metadata": {},
     "output_type": "display_data"
    },
    {
     "data": {
      "text/plain": [
       "<function __main__.darkmode>"
      ]
     },
     "execution_count": 230,
     "metadata": {},
     "output_type": "execute_result"
    }
   ],
   "source": [
    "interact(darkmode,tar=glob.glob(\"./Output/*\"))"
   ]
  },
  {
   "cell_type": "markdown",
   "metadata": {},
   "source": [
    "# リサイズ"
   ]
  },
  {
   "cell_type": "code",
   "execution_count": 29,
   "metadata": {},
   "outputs": [],
   "source": [
    "def resize(img,resize_w):\n",
    "    tar=cv2.imread(img)\n",
    "    tar_w,tar_h,_=tar.shape\n",
    "\n",
    "    raito=float(resize_w)/tar_w\n",
    "    resize_h=raito*tar_h\n",
    "    print resize_w\n",
    "    print resize_h\n",
    "    tar=cv2.resize(tar,(resize_w,int(resize_h)))\n",
    "    tar=Image.fromarray(tar)\n",
    "\n",
    "    return plt.imshow(tar)\n",
    "    "
   ]
  },
  {
   "cell_type": "code",
   "execution_count": 30,
   "metadata": {},
   "outputs": [
    {
     "data": {
      "application/vnd.jupyter.widget-view+json": {
       "model_id": "a44a554dc3e04e89a6158807d772b4f6",
       "version_major": 2,
       "version_minor": 0
      },
      "text/plain": [
       "aW50ZXJhY3RpdmUoY2hpbGRyZW49KERyb3Bkb3duKGRlc2NyaXB0aW9uPXUnaW1nJywgb3B0aW9ucz0oJy4vVGFyZ2V0LzAwOTQuanBnJywgJy4vVGFyZ2V0LzAxOTQuanBnJywgJy4vVGFyZ2XigKY=\n"
      ]
     },
     "metadata": {},
     "output_type": "display_data"
    },
    {
     "data": {
      "text/plain": [
       "<function __main__.resize>"
      ]
     },
     "execution_count": 30,
     "metadata": {},
     "output_type": "execute_result"
    }
   ],
   "source": [
    "interact(resize,img=glob.glob(\"./Target/*\"),resize_w=(100,1000,50))"
   ]
  },
  {
   "cell_type": "markdown",
   "metadata": {},
   "source": [
    "# セピア変換"
   ]
  },
  {
   "cell_type": "code",
   "execution_count": 60,
   "metadata": {},
   "outputs": [],
   "source": [
    "def Sepia(im):\n",
    "  # セピア変換\n",
    "  \n",
    "    b, g, r = im[:,:,0],im[:,:,1], im[:,:,2]\n",
    "    gray = 0.2989 * r + 0.5870 * g + 0.1140 * b \n",
    "    r=gray*240/255\n",
    "    g=gray*200/255\n",
    "    b=gray*145/255\n",
    "    im[:,:,0],im[:,:,1], im[:,:,2]=b, g, r\n",
    "     \n",
    "    return display_cv_image(im)"
   ]
  },
  {
   "cell_type": "code",
   "execution_count": 3,
   "metadata": {},
   "outputs": [
    {
     "ename": "NameError",
     "evalue": "name 'display_cv_image' is not defined",
     "output_type": "error",
     "traceback": [
      "\u001b[0;31m---------------------------------------------------------------------------\u001b[0m",
      "\u001b[0;31mNameError\u001b[0m                                 Traceback (most recent call last)",
      "\u001b[0;32m<ipython-input-3-30d436218d23>\u001b[0m in \u001b[0;36m<module>\u001b[0;34m()\u001b[0m\n\u001b[0;32m----> 1\u001b[0;31m \u001b[0mdisplay_cv_image\u001b[0m\u001b[0;34m(\u001b[0m\u001b[0mSepia\u001b[0m\u001b[0;34m(\u001b[0m\u001b[0mcv2\u001b[0m\u001b[0;34m.\u001b[0m\u001b[0mimread\u001b[0m\u001b[0;34m(\u001b[0m\u001b[0;34m\"./Output/out_15.jpg\"\u001b[0m\u001b[0;34m)\u001b[0m\u001b[0;34m)\u001b[0m\u001b[0;34m)\u001b[0m\u001b[0;34m\u001b[0m\u001b[0m\n\u001b[0m",
      "\u001b[0;31mNameError\u001b[0m: name 'display_cv_image' is not defined"
     ]
    }
   ],
   "source": [
    "display_cv_image(Sepia(cv2.imread(\"./Output/out_15.jpg\")))"
   ]
  },
  {
   "cell_type": "markdown",
   "metadata": {},
   "source": [
    "# 鮮鋭化"
   ]
  },
  {
   "cell_type": "code",
   "execution_count": 54,
   "metadata": {},
   "outputs": [],
   "source": [
    "def Sharp(img=None):\n",
    "    kernel=np.array([[-1,-1,-1],\n",
    "                     [-1,9,-1],\n",
    "                     [-1,-1,-1]],np.float32)\n",
    "    dst=cv2.filter2D(img,-1,kernel)\n",
    "    return display_cv_image(dst)"
   ]
  },
  {
   "cell_type": "code",
   "execution_count": 4,
   "metadata": {},
   "outputs": [
    {
     "ename": "NameError",
     "evalue": "name 'Sharp' is not defined",
     "output_type": "error",
     "traceback": [
      "\u001b[0;31m---------------------------------------------------------------------------\u001b[0m",
      "\u001b[0;31mNameError\u001b[0m                                 Traceback (most recent call last)",
      "\u001b[0;32m<ipython-input-4-e1c73ca70e8e>\u001b[0m in \u001b[0;36m<module>\u001b[0;34m()\u001b[0m\n\u001b[0;32m----> 1\u001b[0;31m \u001b[0mSharp\u001b[0m\u001b[0;34m(\u001b[0m\u001b[0mimg\u001b[0m\u001b[0;34m=\u001b[0m\u001b[0mcv2\u001b[0m\u001b[0;34m.\u001b[0m\u001b[0mimread\u001b[0m\u001b[0;34m(\u001b[0m\u001b[0;34m\"./Target/target1.jpg\"\u001b[0m\u001b[0;34m,\u001b[0m\u001b[0;34m-\u001b[0m\u001b[0;36m1\u001b[0m\u001b[0;34m)\u001b[0m\u001b[0;34m)\u001b[0m\u001b[0;34m\u001b[0m\u001b[0m\n\u001b[0m",
      "\u001b[0;31mNameError\u001b[0m: name 'Sharp' is not defined"
     ]
    }
   ],
   "source": [
    "Sharp(img=cv2.imread(\"./Target/target1.jpg\",-1))"
   ]
  },
  {
   "cell_type": "markdown",
   "metadata": {},
   "source": [
    "# 擬似遮蔽"
   ]
  },
  {
   "cell_type": "code",
   "execution_count": 23,
   "metadata": {},
   "outputs": [],
   "source": [
    "#遮蔽物合成\n",
    "def test_HideTarget(tar,num):\n",
    "    img=cv2.imread(tar)\n",
    "    cv2.imwrite(\"./tmp/Shield.png\",MakeShield(img,num))\n",
    "    \n",
    "    target=Image.open(\"./tmp/tmp.png\").convert(\"RGBA\")\n",
    "    shield=Image.open(\"./tmp/Shield.png\").convert(\"RGBA\")\n",
    "    target.paste(shield,(0,0),shield)\n",
    "    return target\n",
    "\n",
    "# 図形生成\n",
    "def MakeShield(img,num=0):\n",
    "    h,w,_=img.shape\n",
    "    Shield=np.full((h,w,3),255,np.uint8)\n",
    "    \n",
    "    \n",
    "    for i in range(num):\n",
    "    \n",
    "    #   描画設定\n",
    "        ShieldType,FillOption,startX,startY,ColorR,ColorG,ColorB=Dise(w,h)\n",
    "\n",
    "        if(ShieldType==0):#四角形    \n",
    "            endX=random.randint(0,w)\n",
    "            endY=random.randint(0,h)\n",
    "            cv2.rectangle(Shield,(startX,startY),\n",
    "                          (endX,endY),\n",
    "                          (ColorB,ColorG,ColorR),FillOption)\n",
    "        elif(ShieldType==1):#円\n",
    "            min_len=min(h,w)\n",
    "            radius=random.randint(1,min_len/2)\n",
    "            cv2.circle(Shield,(startX,startY),\n",
    "                       radius,(ColorB,ColorG,ColorR),FillOption)\n",
    "        elif(ShieldType==2):#楕円\n",
    "            radiusX=random.randint(1,w)\n",
    "            radiusY=random.randint(1,h)\n",
    "            angle=random.randint(1,359)\n",
    "            cv2.ellipse(Shield,((startX,startY),\n",
    "                                    (radiusX,radiusY),angle),\n",
    "                                    (ColorB,ColorG,ColorR),FillOption)\n",
    "    \n",
    "    Shield=Extraction_color(B=254,G=254,R=254,tar=Shield)\n",
    "    return Shield\n",
    "\n",
    "\n",
    "\n",
    "def Dise(w,h):\n",
    "    ShieldType=random.randint(0,2)\n",
    "    FillOption=random.choice([-1,5])\n",
    "    startX=random.randint(0,w)\n",
    "    startY=random.randint(0,h)\n",
    "    ColorR=random.randint(0,254)\n",
    "    ColorG=random.randint(0,254)\n",
    "    ColorB=random.randint(0,254)\n",
    "    return ShieldType,FillOption,startX,startY,ColorR,ColorG,ColorB"
   ]
  },
  {
   "cell_type": "code",
   "execution_count": 5,
   "metadata": {},
   "outputs": [
    {
     "ename": "NameError",
     "evalue": "name 'test_HideTarget' is not defined",
     "output_type": "error",
     "traceback": [
      "\u001b[0;31m---------------------------------------------------------------------------\u001b[0m",
      "\u001b[0;31mNameError\u001b[0m                                 Traceback (most recent call last)",
      "\u001b[0;32m<ipython-input-5-9036ad9b5a4c>\u001b[0m in \u001b[0;36m<module>\u001b[0;34m()\u001b[0m\n\u001b[0;32m----> 1\u001b[0;31m \u001b[0mtest_HideTarget\u001b[0m\u001b[0;34m(\u001b[0m\u001b[0;34m\"./tmp/tmp.png\"\u001b[0m\u001b[0;34m,\u001b[0m\u001b[0;36m1\u001b[0m\u001b[0;34m)\u001b[0m\u001b[0;34m\u001b[0m\u001b[0m\n\u001b[0m",
      "\u001b[0;31mNameError\u001b[0m: name 'test_HideTarget' is not defined"
     ]
    }
   ],
   "source": [
    "test_HideTarget(\"./tmp/tmp.png\",1)"
   ]
  },
  {
   "cell_type": "markdown",
   "metadata": {},
   "source": [
    "# 回転"
   ]
  },
  {
   "cell_type": "code",
   "execution_count": 8,
   "metadata": {},
   "outputs": [],
   "source": [
    "# アフィン変換\n",
    "def Affine(tar=TAR):\n",
    "    img=cv2.imread(tar)\n",
    "    h,w,c=img.shape\n",
    "    M=cv2.getRotationMatrix2D(center=(w/2,h/2),angle=90,scale=1.)\n",
    "    dst=cv2.warpAffine(img,M,dsize=(w*2,h*2),borderValue=(255,255,255))\n",
    "    return display_cv_image(dst)"
   ]
  },
  {
   "cell_type": "code",
   "execution_count": 6,
   "metadata": {},
   "outputs": [
    {
     "ename": "NameError",
     "evalue": "name 'Affine' is not defined",
     "output_type": "error",
     "traceback": [
      "\u001b[0;31m---------------------------------------------------------------------------\u001b[0m",
      "\u001b[0;31mNameError\u001b[0m                                 Traceback (most recent call last)",
      "\u001b[0;32m<ipython-input-6-05fd537c135a>\u001b[0m in \u001b[0;36m<module>\u001b[0;34m()\u001b[0m\n\u001b[0;32m----> 1\u001b[0;31m \u001b[0mAffine\u001b[0m\u001b[0;34m(\u001b[0m\u001b[0mTAR\u001b[0m\u001b[0;34m)\u001b[0m\u001b[0;34m\u001b[0m\u001b[0m\n\u001b[0m",
      "\u001b[0;31mNameError\u001b[0m: name 'Affine' is not defined"
     ]
    }
   ],
   "source": [
    "Affine(TAR)"
   ]
  },
  {
   "cell_type": "markdown",
   "metadata": {},
   "source": [
    "# ぼかし"
   ]
  },
  {
   "cell_type": "code",
   "execution_count": 10,
   "metadata": {},
   "outputs": [],
   "source": [
    "#平滑化\n",
    "def SmoothingBlur(tar=None,Blur=3):\n",
    "    img=cv2.imread(tar)\n",
    "    dst=cv2.blur(img,(Blur,Blur))\n",
    "    return display_cv_image(dst)"
   ]
  },
  {
   "cell_type": "code",
   "execution_count": 11,
   "metadata": {},
   "outputs": [],
   "source": [
    "#バイラテラルフィルタ\n",
    "def BilateralBlur(tar=TAR,cnt=1):\n",
    "    img=cv2.imread(tar)\n",
    "    dst=cv2.bilateralFilter(img,15,20,20)\n",
    "    for i in range(cnt-1):\n",
    "        dst=cv2.bilateralFilter(dst,15,20,20)\n",
    "    return display_cv_image(dst)"
   ]
  },
  {
   "cell_type": "code",
   "execution_count": 12,
   "metadata": {},
   "outputs": [
    {
     "data": {
      "application/vnd.jupyter.widget-view+json": {
       "model_id": "a043357ef15b47f6a6676766201149b3",
       "version_major": 2,
       "version_minor": 0
      },
      "text/plain": [
       "aW50ZXJhY3RpdmUoY2hpbGRyZW49KERyb3Bkb3duKGRlc2NyaXB0aW9uPXUndGFyJywgaW5kZXg9NSwgb3B0aW9ucz0oJy4vVGFyZ2V0LzIwNzE3LWJsYWNrLWNhdC13aGl0ZS1iYWNrZ3JvdW7igKY=\n"
      ]
     },
     "metadata": {},
     "output_type": "display_data"
    },
    {
     "data": {
      "text/plain": [
       "<function __main__.BilateralBlur>"
      ]
     },
     "execution_count": 12,
     "metadata": {},
     "output_type": "execute_result"
    }
   ],
   "source": [
    "interact(BilateralBlur,tar=glob.glob(\"./Target/*\"),cnt=(1,10,1))\n"
   ]
  },
  {
   "cell_type": "markdown",
   "metadata": {},
   "source": [
    "# 射影変換"
   ]
  },
  {
   "cell_type": "code",
   "execution_count": 13,
   "metadata": {},
   "outputs": [],
   "source": [
    "#射影変換(ホモグラフィー変換)\n",
    "def test_Homogtaphy(tar=\"./tmp/tmp.png\",x1=0,y1=0,x2=0,y2=0,x3=0,y3=0,x4=0,y4=0):\n",
    "    img=cv2.imread(tar,-1)\n",
    "    rows,cols,ch=img.shape\n",
    "\n",
    "    bg_h,bg_w,_=img.shape[:3]\n",
    "    print(bg_w)\n",
    "    print(bg_h)\n",
    "    pts1 = np.float32([[0,0],[0,bg_h],[bg_w,0],[bg_w,bg_h]])#4隅を指定(背景サイズと同じにする)\n",
    "    pts2 = np.float32([[x1,y1],[x2,y2+bg_h],[x4+bg_w,y4],[x3+bg_w,y3+bg_h]])#変換後\n",
    "    M = cv2.getPerspectiveTransform(pts1,pts2)\n",
    "    result=cv2.warpPerspective(img,M,(bg_h,bg_w),borderValue=(255,255,255))\n",
    "    cv2.imwrite(\"./tmp/test.png\",result)\n",
    "    return display_cv_image(result)"
   ]
  },
  {
   "cell_type": "code",
   "execution_count": 14,
   "metadata": {
    "scrolled": false
   },
   "outputs": [
    {
     "data": {
      "application/vnd.jupyter.widget-view+json": {
       "model_id": "0938f1075ad040ab9cee7871cab3a415",
       "version_major": 2,
       "version_minor": 0
      },
      "text/plain": [
       "aW50ZXJhY3RpdmUoY2hpbGRyZW49KFRleHQodmFsdWU9dScuL3RtcC90bXAucG5nJywgZGVzY3JpcHRpb249dSd0YXInKSwgSW50U2xpZGVyKHZhbHVlPTAsIGRlc2NyaXB0aW9uPXUneDEnLCDigKY=\n"
      ]
     },
     "metadata": {},
     "output_type": "display_data"
    },
    {
     "data": {
      "text/plain": [
       "<function __main__.test_Homogtaphy>"
      ]
     },
     "execution_count": 14,
     "metadata": {},
     "output_type": "execute_result"
    }
   ],
   "source": [
    "target=Image.open(\"./Target/test.jpg\")\n",
    "R=244\n",
    "G=248\n",
    "B=203\n",
    "dilate=0\n",
    "erode=0\n",
    "# img_ex=img_expansion(target,width=1900,height=1080,decrease=1)#画像の拡張\n",
    "img_ex_Op = cv2.cvtColor(np.array(target),cv2.COLOR_BGR2RGB)   #PILからOpenCVへ変換\n",
    "Extraction_color(B,G,R,img_ex_Op)#　色指定による輪郭抽出（BGR）\n",
    "interact(test_Homogtaphy,x1=(-1900,1900,1),y1=(-1080,1080,1), x2=(-1900,1900,1),y2=(-1080,1080,1),x3=(-1900,1900,1),y3=(-1080,1080,1), x4=(-1900,1900,1),y4=(-1080,1080,1))"
   ]
  },
  {
   "cell_type": "markdown",
   "metadata": {},
   "source": [
    "# 切り取り"
   ]
  },
  {
   "cell_type": "code",
   "execution_count": 15,
   "metadata": {},
   "outputs": [],
   "source": [
    "#ターゲット切り取り\n",
    "def test_ImageTrim(img):\n",
    "\n",
    "    th1=Binarize(245,img)\n",
    "    # 輪郭を抽出\n",
    "      #   contours : [領域][Point No][0][x=0, y=1]\n",
    "      #   cv2.CHAIN_APPROX_NONE: 中間点も保持する\n",
    "      #   cv2.CHAIN_APPROX_SIMPLE: 中間点は保持しない\n",
    "    _,contours, hierarchy = cv2.findContours(th1, cv2.RETR_LIST, cv2.CHAIN_APPROX_NONE)\n",
    "    \n",
    "    \n",
    "    h,w,_=img.shape[:3]\n",
    "    img_area=h*w\n",
    "    \n",
    "    maxContour = 0\n",
    "    count=0\n",
    "#     c=0###########################\n",
    "\n",
    "    # 各輪郭に対する処理\n",
    "    for i in range(0, len(contours)):\n",
    "\n",
    "        # 輪郭の領域を計算\n",
    "        area = cv2.contourArea(contours[i])\n",
    "\n",
    "        # ノイズ（小さすぎる領域）と画像全体の輪郭を除外\n",
    "        if area < 1e3 or area>=img_area-5000:\n",
    "              continue\n",
    "\n",
    "        # 外接矩形\n",
    "        if len(contours[i]) > 0:\n",
    "            if(area>maxContour):\n",
    "                rect = contours[i]\n",
    "                x, y, w, h = cv2.boundingRect(rect)\n",
    "                cv2.rectangle(img, (x, y), (x + w, y + h), (255, 0,0 ), 1) #矩形描画\n",
    "                cv2.drawContours(img,contours[i],-1,(0,255,0),1) #輪郭描画\n",
    "        \n",
    "#                 cv2.imwrite(\"./tmp/\"+str(c)+\"trim.png\",img)##############\n",
    "#                 c+=1####################\n",
    "                # 外接矩形毎に画像を保存\n",
    "                img_pe=img[y:y + h, x:x + w]\n",
    "                maxContour=area\n",
    "                count+=1\n",
    "    print(\"img_area:\"+str(img_area))\n",
    "    print(\"area:\"+str(area))\n",
    "    print(\"count:\"+str(count))\n",
    "    return display_cv_image(img)"
   ]
  },
  {
   "cell_type": "code",
   "execution_count": 7,
   "metadata": {},
   "outputs": [
    {
     "ename": "NameError",
     "evalue": "name 'test_ImageTrim' is not defined",
     "output_type": "error",
     "traceback": [
      "\u001b[0;31m---------------------------------------------------------------------------\u001b[0m",
      "\u001b[0;31mNameError\u001b[0m                                 Traceback (most recent call last)",
      "\u001b[0;32m<ipython-input-7-a9fa7c08e7ce>\u001b[0m in \u001b[0;36m<module>\u001b[0;34m()\u001b[0m\n\u001b[0;32m----> 1\u001b[0;31m \u001b[0mtest_ImageTrim\u001b[0m\u001b[0;34m(\u001b[0m\u001b[0mcv2\u001b[0m\u001b[0;34m.\u001b[0m\u001b[0mimread\u001b[0m\u001b[0;34m(\u001b[0m\u001b[0;34m\"./Target/test.jpg\"\u001b[0m\u001b[0;34m)\u001b[0m\u001b[0;34m)\u001b[0m\u001b[0;34m\u001b[0m\u001b[0m\n\u001b[0m",
      "\u001b[0;31mNameError\u001b[0m: name 'test_ImageTrim' is not defined"
     ]
    }
   ],
   "source": [
    "test_ImageTrim(cv2.imread(\"./Target/test.jpg\"))"
   ]
  },
  {
   "cell_type": "markdown",
   "metadata": {},
   "source": [
    "# ホモグラフィー+切り取り"
   ]
  },
  {
   "cell_type": "code",
   "execution_count": 17,
   "metadata": {},
   "outputs": [],
   "source": [
    "def test_trim(img=\"./Target/test.jpg\",x1=0,y1=0,x2=0,y2=0,x3=0,y3=0,x4=0,y4=0):\n",
    "    test_Homogtaphy(img,x1,y1,x2,y2,x3,y3,x4,y4)\n",
    "    test_ImageTrim(cv2.imread(\"./tmp/test.png\"))"
   ]
  },
  {
   "cell_type": "code",
   "execution_count": 18,
   "metadata": {},
   "outputs": [
    {
     "data": {
      "application/vnd.jupyter.widget-view+json": {
       "model_id": "1155ddd3f289414bb125498ae33ec706",
       "version_major": 2,
       "version_minor": 0
      },
      "text/plain": [
       "aW50ZXJhY3RpdmUoY2hpbGRyZW49KFRleHQodmFsdWU9dScuL1RhcmdldC90ZXN0LmpwZycsIGRlc2NyaXB0aW9uPXUnaW1nJyksIEludFNsaWRlcih2YWx1ZT0wLCBkZXNjcmlwdGlvbj11J3jigKY=\n"
      ]
     },
     "metadata": {},
     "output_type": "display_data"
    },
    {
     "data": {
      "text/plain": [
       "<function __main__.test_trim>"
      ]
     },
     "execution_count": 18,
     "metadata": {},
     "output_type": "execute_result"
    }
   ],
   "source": [
    "interact(test_trim,x1=(-1900,1900,1),y1=(0,1080,1), x2=(0,1900,1),y2=(0,1080,1),x3=(0,1900,1),y3=(0,1080,1), x4=(-1900,1900,1),y4=(0,1080,1))"
   ]
  },
  {
   "cell_type": "markdown",
   "metadata": {},
   "source": [
    "# 明度調整\n",
    "## PIL"
   ]
  },
  {
   "cell_type": "code",
   "execution_count": 19,
   "metadata": {},
   "outputs": [
    {
     "data": {
      "application/vnd.jupyter.widget-view+json": {
       "model_id": "a465e596ccec45d7920de2fe6d3842d1",
       "version_major": 2,
       "version_minor": 0
      },
      "text/plain": [
       "aW50ZXJhY3RpdmUoY2hpbGRyZW49KERyb3Bkb3duKGRlc2NyaXB0aW9uPXUndGFyJywgaW5kZXg9NSwgb3B0aW9ucz0oJy4vVGFyZ2V0LzIwNzE3LWJsYWNrLWNhdC13aGl0ZS1iYWNrZ3JvdW7igKY=\n"
      ]
     },
     "metadata": {},
     "output_type": "display_data"
    },
    {
     "data": {
      "text/plain": [
       "<function __main__.test_PIL_point>"
      ]
     },
     "execution_count": 19,
     "metadata": {},
     "output_type": "execute_result"
    }
   ],
   "source": [
    "interact(test_PIL_point,tar=glob.glob(\"./Target/*\"),bak_name=glob.glob(\"./Background/*\"),point=(0.0,2.0,0.1))"
   ]
  },
  {
   "cell_type": "markdown",
   "metadata": {},
   "source": [
    "## OpenCV"
   ]
  },
  {
   "cell_type": "code",
   "execution_count": 20,
   "metadata": {},
   "outputs": [
    {
     "data": {
      "application/vnd.jupyter.widget-view+json": {
       "model_id": "07be74cf9c9d4f5cac6640edba6bb30a",
       "version_major": 2,
       "version_minor": 0
      },
      "text/plain": [
       "aW50ZXJhY3RpdmUoY2hpbGRyZW49KERyb3Bkb3duKGRlc2NyaXB0aW9uPXUndGFyJywgaW5kZXg9NSwgb3B0aW9ucz0oJy4vVGFyZ2V0LzIwNzE3LWJsYWNrLWNhdC13aGl0ZS1iYWNrZ3JvdW7igKY=\n"
      ]
     },
     "metadata": {},
     "output_type": "display_data"
    },
    {
     "data": {
      "text/plain": [
       "<function __main__.test_OpenCV_gamma>"
      ]
     },
     "execution_count": 20,
     "metadata": {},
     "output_type": "execute_result"
    }
   ],
   "source": [
    "interact(test_OpenCV_gamma,tar=glob.glob(\"./Target/*\"),bak_name=glob.glob(\"./Background/*\"),gamma=(0.1,2,0.1))"
   ]
  },
  {
   "cell_type": "markdown",
   "metadata": {},
   "source": [
    "# ツール"
   ]
  },
  {
   "cell_type": "code",
   "execution_count": 233,
   "metadata": {},
   "outputs": [],
   "source": [
    "import os\n",
    "def count_files(in_directory):\n",
    "    joiner= (in_directory + os.path.sep).__add__\n",
    "    return sum(\n",
    "        os.path.isfile(filename)\n",
    "        for filename\n",
    "        in map(joiner, os.listdir(in_directory))\n",
    "    )\n"
   ]
  },
  {
   "cell_type": "code",
   "execution_count": 236,
   "metadata": {},
   "outputs": [
    {
     "name": "stdout",
     "output_type": "stream",
     "text": [
      "764 files\n"
     ]
    }
   ],
   "source": [
    "print(str(count_files(\"./Output/\"))+\" files\")"
   ]
  },
  {
   "cell_type": "code",
   "execution_count": null,
   "metadata": {},
   "outputs": [],
   "source": []
  }
 ],
 "metadata": {
  "kernelspec": {
   "display_name": "Python 2",
   "language": "python",
   "name": "python2"
  },
  "language_info": {
   "codemirror_mode": {
    "name": "ipython",
    "version": 2
   },
   "file_extension": ".py",
   "mimetype": "text/x-python",
   "name": "python",
   "nbconvert_exporter": "python",
   "pygments_lexer": "ipython2",
   "version": "2.7.15"
  }
 },
 "nbformat": 4,
 "nbformat_minor": 2
}
